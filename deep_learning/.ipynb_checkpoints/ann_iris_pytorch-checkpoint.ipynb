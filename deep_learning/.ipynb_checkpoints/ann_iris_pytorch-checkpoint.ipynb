{
 "cells": [
  {
   "cell_type": "markdown",
   "id": "50cec791-d7d6-4f2e-a023-611d82914454",
   "metadata": {},
   "source": [
    "## 📊 Step 1: Load and Preprocess the Iris Dataset\n",
    "\n",
    "We will use the classic **Iris dataset**, which consists of 150 samples from 3 species of iris flowers. Each sample has 4 features:\n",
    "\n",
    "- sepal length\n",
    "- sepal width\n",
    "- petal length\n",
    "- petal width\n",
    "\n",
    "We'll perform the following steps:\n",
    "\n",
    "1. Load the data using `sklearn.datasets`\n",
    "2. Standardize the feature values (important for neural networks)\n",
    "3. Split into training and test sets\n",
    "4. Convert everything to **PyTorch tensors** so the model can train on GPU or CPU\n"
   ]
  },
  {
   "cell_type": "code",
   "execution_count": 13,
   "id": "ee5d9bd0-46d0-46bb-b816-b25772dda802",
   "metadata": {},
   "outputs": [],
   "source": [
    "# !pip install torch torchvision torchaudio"
   ]
  },
  {
   "cell_type": "code",
   "execution_count": 5,
   "id": "65d4a083-f8db-4b84-8296-a55a52c9a26f",
   "metadata": {},
   "outputs": [],
   "source": [
    "# 📦 Imports\n",
    "import torch\n",
    "import torch.nn as nn\n",
    "import torch.optim as optim\n",
    "import torch.nn.functional as F\n",
    "\n",
    "from sklearn.datasets import load_iris\n",
    "from sklearn.model_selection import train_test_split\n",
    "from sklearn.preprocessing import StandardScaler\n",
    "\n",
    "import numpy as np\n",
    "import matplotlib.pyplot as plt\n",
    "\n",
    "device = torch.device(\"cuda\" if torch.cuda.is_available() else \"cpu\")\n"
   ]
  },
  {
   "cell_type": "code",
   "execution_count": 6,
   "id": "912e2a89-f775-432f-9ef1-dfa8ade91c33",
   "metadata": {},
   "outputs": [],
   "source": [
    "# Load the Iris dataset\n",
    "iris = load_iris()\n",
    "X = iris.data        # Feature matrix (shape: [150, 4])\n",
    "y = iris.target      # Labels (0 = Setosa, 1 = Versicolor, 2 = Virginica)\n",
    "\n",
    "# Standardize features (zero mean, unit variance)\n",
    "scaler = StandardScaler()\n",
    "X_scaled = scaler.fit_transform(X)\n",
    "\n",
    "# Split into train and test sets (80% train, 20% test)\n",
    "X_train, X_test, y_train, y_test = train_test_split(\n",
    "    X_scaled, y, test_size=0.2, random_state=42\n",
    ")\n",
    "\n",
    "# Convert numpy arrays to PyTorch tensors\n",
    "X_train = torch.tensor(X_train, dtype=torch.float32).to(device)\n",
    "X_test = torch.tensor(X_test, dtype=torch.float32).to(device)\n",
    "y_train = torch.tensor(y_train, dtype=torch.long).to(device)\n",
    "y_test = torch.tensor(y_test, dtype=torch.long).to(device)\n"
   ]
  },
  {
   "cell_type": "markdown",
   "id": "13a17467-08d2-4c70-b943-09225d7021fb",
   "metadata": {},
   "source": [
    "## 🧠 Step 2: Define the ANN Model Architecture\n",
    "\n",
    "We’ll create a simple feedforward neural network (Multi-Layer Perceptron) with:\n",
    "- Input layer (4 features)\n",
    "- 1 hidden layer with ReLU activation\n",
    "- Output layer with 3 neurons (one per class)\n",
    "\n",
    "We'll use `CrossEntropyLoss`, so the output layer **should not** include Softmax explicitly — PyTorch handles it internally.\n"
   ]
  },
  {
   "cell_type": "code",
   "execution_count": null,
   "id": "a62afe8e-09be-41a5-9f40-a9921e7d02cb",
   "metadata": {},
   "outputs": [],
   "source": []
  },
  {
   "cell_type": "code",
   "execution_count": 7,
   "id": "af04a50e-be1d-43b5-a9fa-495913b8751e",
   "metadata": {},
   "outputs": [
    {
     "name": "stdout",
     "output_type": "stream",
     "text": [
      "IrisANN(\n",
      "  (fc1): Linear(in_features=4, out_features=16, bias=True)\n",
      "  (fc2): Linear(in_features=16, out_features=3, bias=True)\n",
      ")\n"
     ]
    }
   ],
   "source": [
    "# Define the MLP model\n",
    "class IrisANN(nn.Module):\n",
    "    def __init__(self):\n",
    "        super(IrisANN, self).__init__()\n",
    "        self.fc1 = nn.Linear(4, 16)   # input layer → hidden\n",
    "        self.fc2 = nn.Linear(16, 3)  # hidden layer → output layer (3 classes)\n",
    "\n",
    "    def forward(self, x):\n",
    "        x = F.relu(self.fc1(x))     # activation on hidden layer\n",
    "        x = self.fc2(x)             # output logits\n",
    "        return x\n",
    "\n",
    "# Instantiate the model and move to device (CPU or GPU)\n",
    "model = IrisANN().to(device)\n",
    "print(model)\n"
   ]
  },
  {
   "cell_type": "markdown",
   "id": "b49d8a2f-4fb8-481a-a8c5-bdf234a933df",
   "metadata": {},
   "source": [
    "## 🏋️ Step 3: Set Loss Function, Optimizer, and Train\n",
    "\n",
    "We'll train the model using:\n",
    "- **CrossEntropyLoss** (for multi-class classification)\n",
    "- **Adam optimizer** (for faster convergence)\n",
    "- Accuracy tracking for evaluation\n"
   ]
  },
  {
   "cell_type": "code",
   "execution_count": 8,
   "id": "e64e980b-45e0-4aca-ba73-892536a17e3c",
   "metadata": {},
   "outputs": [
    {
     "name": "stdout",
     "output_type": "stream",
     "text": [
      "Epoch 10/100, Loss: 0.6767\n",
      "Epoch 20/100, Loss: 0.4634\n",
      "Epoch 30/100, Loss: 0.3375\n",
      "Epoch 40/100, Loss: 0.2510\n",
      "Epoch 50/100, Loss: 0.1794\n",
      "Epoch 60/100, Loss: 0.1260\n",
      "Epoch 70/100, Loss: 0.0957\n",
      "Epoch 80/100, Loss: 0.0786\n",
      "Epoch 90/100, Loss: 0.0689\n",
      "Epoch 100/100, Loss: 0.0631\n"
     ]
    }
   ],
   "source": [
    "# Loss function and optimizer\n",
    "criterion = nn.CrossEntropyLoss()                     # for multi-class classification\n",
    "optimizer = optim.Adam(model.parameters(), lr=0.01)   # Adam optimizer\n",
    "\n",
    "# Training loop\n",
    "epochs = 100\n",
    "train_losses = []\n",
    "\n",
    "for epoch in range(epochs):\n",
    "    model.train()\n",
    "    optimizer.zero_grad()               # clear gradients\n",
    "    outputs = model(X_train)            # forward pass\n",
    "    loss = criterion(outputs, y_train)  # compute loss\n",
    "    loss.backward()                     # backpropagation\n",
    "    optimizer.step()                    # update weights\n",
    "    \n",
    "    train_losses.append(loss.item())    # record loss\n",
    "    if (epoch + 1) % 10 == 0:\n",
    "        print(f\"Epoch {epoch+1}/{epochs}, Loss: {loss.item():.4f}\")\n"
   ]
  },
  {
   "cell_type": "markdown",
   "id": "84d87f2d-7fe2-4d61-be63-a3a0116456fe",
   "metadata": {},
   "source": [
    "## 📈 Step 4: Evaluate the Model & Plot Training Loss\n",
    "\n",
    "We check the model's classification accuracy on the test set and plot the training loss curve.\n"
   ]
  },
  {
   "cell_type": "code",
   "execution_count": 9,
   "id": "8f1a18d5-5b0a-4aed-b6df-0df5b1fa9000",
   "metadata": {},
   "outputs": [
    {
     "name": "stdout",
     "output_type": "stream",
     "text": [
      "Test Accuracy: 100.00%\n"
     ]
    }
   ],
   "source": [
    "# Evaluate accuracy on test set\n",
    "model.eval()\n",
    "with torch.no_grad():\n",
    "    test_outputs = model(X_test)\n",
    "    predictions = torch.argmax(test_outputs, dim=1)\n",
    "    accuracy = (predictions == y_test).float().mean()\n",
    "    print(f\"Test Accuracy: {accuracy.item() * 100:.2f}%\")\n"
   ]
  },
  {
   "cell_type": "code",
   "execution_count": 10,
   "id": "5d4190f0-3212-4d8b-a529-eb11c67702a7",
   "metadata": {},
   "outputs": [
    {
     "data": {
      "image/png": "[encoded data removed]",
      "text/plain": [
       "<Figure size 800x400 with 1 Axes>"
      ]
     },
     "metadata": {},
     "output_type": "display_data"
    }
   ],
   "source": [
    "# Plot training loss\n",
    "plt.figure(figsize=(8, 4))\n",
    "plt.plot(train_losses, label='Training Loss', color='blue')\n",
    "plt.title('Training Loss Over Epochs')\n",
    "plt.xlabel('Epoch')\n",
    "plt.ylabel('Loss')\n",
    "plt.grid(True)\n",
    "plt.legend()\n",
    "plt.show()\n"
   ]
  },
  {
   "cell_type": "markdown",
   "id": "7f061c88-2fd2-4bf6-94de-f90cefb7e9d1",
   "metadata": {},
   "source": [
    "## 🧩 Step 5: Visualize Confusion Matrix\n",
    "\n",
    "A **confusion matrix** helps us understand how well the classifier is performing across each class.\n"
   ]
  },
  {
   "cell_type": "code",
   "execution_count": 11,
   "id": "74df74db-ddcf-4095-b139-2c65d17505f8",
   "metadata": {},
   "outputs": [
    {
     "data": {
      "image/png": "[encoded data removed]",
      "text/plain": [
       "<Figure size 640x480 with 2 Axes>"
      ]
     },
     "metadata": {},
     "output_type": "display_data"
    }
   ],
   "source": [
    "from sklearn.metrics import confusion_matrix, ConfusionMatrixDisplay\n",
    "\n",
    "# Move predictions and labels to CPU for sklearn compatibility\n",
    "y_true = y_test.cpu().numpy()\n",
    "y_pred = predictions.cpu().numpy()\n",
    "\n",
    "# Generate confusion matrix\n",
    "cm = confusion_matrix(y_true, y_pred)\n",
    "\n",
    "# Display confusion matrix with class labels\n",
    "disp = ConfusionMatrixDisplay(confusion_matrix=cm, display_labels=iris.target_names)\n",
    "disp.plot(cmap='Blues')\n",
    "plt.title(\"Confusion Matrix\")\n",
    "plt.show()\n"
   ]
  },
  {
   "cell_type": "markdown",
   "id": "d75830cf-012f-4c23-aa98-444b7d6e3f47",
   "metadata": {},
   "source": [
    "## 🔎 Step 6: Perform Inference with the Trained Model\n",
    "\n",
    "We now use the trained model to predict the class of a **new sample** (manually selected from the test set).\n"
   ]
  },
  {
   "cell_type": "code",
   "execution_count": 12,
   "id": "9d44b9ae-43e0-4569-b06a-96221595a6e5",
   "metadata": {},
   "outputs": [
    {
     "name": "stdout",
     "output_type": "stream",
     "text": [
      "Predicted class: versicolor\n",
      "Actual class: versicolor\n"
     ]
    }
   ],
   "source": [
    "# Inference on a single test example\n",
    "sample_idx = 3  # change index to test another sample\n",
    "sample = X_test[sample_idx].unsqueeze(0)  # add batch dimension (1, 4)\n",
    "\n",
    "model.eval()\n",
    "with torch.no_grad():\n",
    "    logits = model(sample)\n",
    "    predicted_class = torch.argmax(logits, dim=1).item()\n",
    "\n",
    "    print(f\"Predicted class: {iris.target_names[predicted_class]}\")\n",
    "    print(f\"Actual class: {iris.target_names[y_test[sample_idx].item()]}\")\n"
   ]
  },
  {
   "cell_type": "markdown",
   "id": "39fc6b2a-a774-4257-960b-c3df016181f5",
   "metadata": {},
   "source": [
    "## ✅ Conclusion: ANN/MLP on Iris Dataset\n",
    "\n",
    "In this notebook, we built and trained a **Multi-Layer Perceptron (MLP)** to classify iris flowers using PyTorch.\n",
    "\n",
    "### 🔍 What we accomplished:\n",
    "- Loaded and preprocessed the Iris dataset\n",
    "- Built a simple ANN model with 1 hidden layer\n",
    "- Trained it using CrossEntropyLoss and Adam optimizer\n",
    "- Evaluated performance using accuracy and confusion matrix\n",
    "- Performed inference on individual samples\n"
   ]
  },
  {
   "cell_type": "code",
   "execution_count": null,
   "id": "f07a4656-a40e-4e4a-88ad-1242928aad91",
   "metadata": {},
   "outputs": [],
   "source": []
  }
 ],
 "metadata": {
  "kernelspec": {
   "display_name": "Python 3 (ipykernel)",
   "language": "python",
   "name": "python3"
  },
  "language_info": {
   "codemirror_mode": {
    "name": "ipython",
    "version": 3
   },
   "file_extension": ".py",
   "mimetype": "text/x-python",
   "name": "python",
   "nbconvert_exporter": "python",
   "pygments_lexer": "ipython3",
   "version": "3.13.5"
  }
 },
 "nbformat": 4,
 "nbformat_minor": 5
}
